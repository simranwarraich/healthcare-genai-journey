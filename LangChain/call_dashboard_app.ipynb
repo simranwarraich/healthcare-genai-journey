{
 "cells": [
  {
   "cell_type": "code",
   "execution_count": null,
   "id": "76723cbe",
   "metadata": {},
   "outputs": [],
   "source": [
    "import snowflake.connector\n",
    "import pandas as pd\n",
    "import streamlit as st\n",
    "\n",
    "st.title(\"📞 Healthcare Call Transcript Analyzer\")\n",
    "\n",
    "# ---------------------------\n",
    "# CONNECT TO SNOWFLAKE\n",
    "# ---------------------------\n",
    "conn = snowflake.connector.connect(\n",
    "    user = \"\",\n",
    "    password = \"\",\n",
    "    account = \"\",\n",
    "    warehouse = \"\",\n",
    "    database = \"\",\n",
    "    schema = \"PUBLIC\",\n",
    "    role = \"ACCOUNTADMIN\"\n",
    ")\n",
    "\n",
    "query = \"\"\"\n",
    "SELECT CC_NAME, CC_REC_START_DATE, CC_MKT_DESC\n",
    "FROM tpcds_10tb.tpcds_sf10tcl.call_center\n",
    "\"\"\"\n",
    "\n",
    "df = pd.read_sql(query, conn)\n",
    "df[\"CC_REC_START_DATE\"] = pd.to_datetime(df[\"CC_REC_START_DATE\"])\n",
    "\n",
    "st.success(f\"✅ Loaded {len(df)} call transcripts from Snowflake\")\n",
    "\n",
    "# Show preview\n",
    "st.dataframe(df.head())\n",
    "\n"
   ]
  }
 ],
 "metadata": {
  "kernelspec": {
   "display_name": "Python 3",
   "language": "python",
   "name": "python3"
  },
  "language_info": {
   "codemirror_mode": {
    "name": "ipython",
    "version": 3
   },
   "file_extension": ".py",
   "mimetype": "text/x-python",
   "name": "python",
   "nbconvert_exporter": "python",
   "pygments_lexer": "ipython3",
   "version": "3.11.9"
  }
 },
 "nbformat": 4,
 "nbformat_minor": 5
}
