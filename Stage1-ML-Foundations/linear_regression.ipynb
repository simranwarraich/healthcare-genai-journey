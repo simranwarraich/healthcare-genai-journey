{
 "cells": [
  {
   "cell_type": "markdown",
   "id": "3e1dfa18",
   "metadata": {},
   "source": [
    "Practice Exercise: Predicting Insurance Claim Amount\n",
    "Problem Statement\n",
    "\n",
    "An insurance company wants to predict the claim amount (charges) for a policyholder based on:\n",
    "\n",
    "age (years)\n",
    "\n",
    "bmi (body mass index)\n",
    "\n",
    "children (number of dependents)\n",
    "\n",
    "smoker (yes/no)\n",
    "\n",
    "You need to build a Linear Regression model to predict charges.\n",
    "Sample Dataset (tiny for practice)\n",
    "\n",
    "| age | bmi  | children | smoker | charges |\n",
    "| --- | ---- | -------- | ------ | ------- |\n",
    "| 25  | 28.5 | 0        | no     | 3200    |\n",
    "| 32  | 31.2 | 1        | no     | 4300    |\n",
    "| 45  | 24.0 | 2        | yes    | 16800   |\n",
    "| 52  | 36.5 | 3        | yes    | 24000   |\n",
    "| 28  | 26.2 | 0        | no     | 3700    |\n",
    "| 36  | 29.8 | 2        | no     | 4800    |\n",
    "| 50  | 30.1 | 1        | yes    | 19500   |\n"
   ]
  },
  {
   "cell_type": "code",
   "execution_count": null,
   "id": "f0633b39",
   "metadata": {
    "vscode": {
     "languageId": "plaintext"
    }
   },
   "outputs": [],
   "source": []
  },
  {
   "cell_type": "markdown",
   "id": "919811a7",
   "metadata": {},
   "source": []
  }
 ],
 "metadata": {
  "language_info": {
   "name": "python"
  }
 },
 "nbformat": 4,
 "nbformat_minor": 5
}
