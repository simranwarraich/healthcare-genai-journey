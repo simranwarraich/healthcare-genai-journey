{
 "cells": [
  {
   "cell_type": "markdown",
   "id": "3e1dfa18",
   "metadata": {},
   "source": [
    "Practice Exercise: Predicting Insurance Claim Amount\n",
    "Problem Statement\n",
    "\n",
    "An insurance company wants to predict the claim amount (charges) for a policyholder based on:\n",
    "\n",
    "age (years)\n",
    "\n",
    "bmi (body mass index)\n",
    "\n",
    "children (number of dependents)\n",
    "\n",
    "smoker (yes/no)\n",
    "\n",
    "You need to build a Linear Regression model to predict charges.\n",
    "Sample Dataset (tiny for practice)\n",
    "\n",
    "| age | bmi  | children | smoker | charges |\n",
    "| --- | ---- | -------- | ------ | ------- |\n",
    "| 25  | 28.5 | 0        | no     | 3200    |\n",
    "| 32  | 31.2 | 1        | no     | 4300    |\n",
    "| 45  | 24.0 | 2        | yes    | 16800   |\n",
    "| 52  | 36.5 | 3        | yes    | 24000   |\n",
    "| 28  | 26.2 | 0        | no     | 3700    |\n",
    "| 36  | 29.8 | 2        | no     | 4800    |\n",
    "| 50  | 30.1 | 1        | yes    | 19500   |\n"
   ]
  },
  {
   "cell_type": "code",
   "execution_count": null,
   "id": "f0633b39",
   "metadata": {
    "vscode": {
     "languageId": "plaintext"
    }
   },
   "outputs": [],
   "source": [
    "import pandas as pd\n",
    "from sklearn.linear_model import LinearRegression\n",
    "from sklearn.model_selection import train_test_split\n",
    "from sklearn.metrics import mean_absolute_error, mean_squared_error, r2_score"
   ]
  },
  {
   "cell_type": "code",
   "execution_count": null,
   "id": "1fb781e6",
   "metadata": {
    "vscode": {
     "languageId": "plaintext"
    }
   },
   "outputs": [],
   "source": []
  },
  {
   "cell_type": "code",
   "execution_count": null,
   "id": "ca12b036",
   "metadata": {
    "vscode": {
     "languageId": "plaintext"
    }
   },
   "outputs": [],
   "source": [
    "# Step 1: Create dataset\n",
    "data = {\n",
    "    \"age\": [25, 32, 45, 52, 28, 36, 50],\n",
    "    \"bmi\": [28.5, 31.2, 24.0, 36.5, 26.2, 29.8, 30.1],\n",
    "    \"children\": [0, 1, 2, 3, 0, 2, 1],\n",
    "    \"smoker\": [\"no\", \"no\", \"yes\", \"yes\", \"no\", \"no\", \"yes\"],\n",
    "    \"charges\": [3200, 4300, 16800, 24000, 3700, 4800, 19500]\n",
    "}\n",
    "\n",
    "df = pd.DataFrame(data)\n",
    "\n",
    "# Step 2: Convert categorical variable 'smoker' to numeric\n",
    "df[\"smoker\"] = df[\"smoker\"].map({\"no\": 0, \"yes\": 1})\n",
    "\n",
    "# Step 3: Features (X) and target (y)\n",
    "X = df[[\"age\", \"bmi\", \"children\", \"smoker\"]]\n",
    "y = df[\"charges\"]\n",
    "\n",
    "# Step 4: Train-test split\n",
    "X_train, X_test, y_train, y_test = train_test_split(X, y, test_size=0.3, random_state=42)\n",
    "\n",
    "# Step 5: Train model\n",
    "model = LinearRegression()\n",
    "model.fit(X_train, y_train)\n",
    "\n",
    "# Step 6: Predictions\n",
    "y_pred = model.predict(X_test)\n",
    "\n",
    "# Step 7: Evaluation\n",
    "print(\"Coefficients:\", model.coef_)\n",
    "print(\"Intercept:\", model.intercept_)\n",
    "print(\"MAE:\", mean_absolute_error(y_test, y_pred))\n",
    "print(\"RMSE:\", mean_squared_error(y_test, y_pred, squared=False))\n",
    "print(\"R2 Score:\", r2_score(y_test, y_pred))"
   ]
  }
 ],
 "metadata": {
  "language_info": {
   "name": "python"
  }
 },
 "nbformat": 4,
 "nbformat_minor": 5
}
